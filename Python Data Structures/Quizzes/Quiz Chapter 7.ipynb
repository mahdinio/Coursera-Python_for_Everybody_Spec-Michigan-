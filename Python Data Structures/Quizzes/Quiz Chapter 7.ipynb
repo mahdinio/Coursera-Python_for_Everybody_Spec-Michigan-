{
 "cells": [
  {
   "cell_type": "markdown",
   "metadata": {},
   "source": [
    "1.Given the architecture and terminology we introduced in Chapter 1, where are files stored?"
   ]
  },
  {
   "cell_type": "markdown",
   "metadata": {},
   "source": [
    "* Secondry Memory"
   ]
  },
  {
   "cell_type": "markdown",
   "metadata": {},
   "source": [
    "2.What is stored in a \"file handle\" that is returned from a successful open() call?"
   ]
  },
  {
   "cell_type": "markdown",
   "metadata": {},
   "source": [
    "* The handle is a connection to the file's data"
   ]
  },
  {
   "cell_type": "markdown",
   "metadata": {},
   "source": [
    "3.What do we use the second parameter of the open() call to indicate?"
   ]
  },
  {
   "cell_type": "markdown",
   "metadata": {},
   "source": [
    "* Whether we want to read data from the file or write data to the file"
   ]
  },
  {
   "cell_type": "markdown",
   "metadata": {},
   "source": [
    "4.What Python function would you use if you wanted to prompt the user for a file name to open?"
   ]
  },
  {
   "cell_type": "markdown",
   "metadata": {},
   "source": [
    "* input()"
   ]
  },
  {
   "cell_type": "markdown",
   "metadata": {},
   "source": [
    "5.What is the purpose of the newline character in text files?"
   ]
  },
  {
   "cell_type": "markdown",
   "metadata": {},
   "source": [
    "* It indicates the end of one line of text and the beginning of another line of text"
   ]
  },
  {
   "cell_type": "markdown",
   "metadata": {},
   "source": [
    "6.If we open a file as follows:\n",
    "    xfile = open('mbox.txt')\n",
    "What statement would we use to read the file one line at a time?"
   ]
  },
  {
   "cell_type": "markdown",
   "metadata": {},
   "source": [
    "* for line in xfile:"
   ]
  },
  {
   "cell_type": "markdown",
   "metadata": {},
   "source": [
    "7.What is the purpose of the following Python code?"
   ]
  },
  {
   "cell_type": "markdown",
   "metadata": {},
   "source": [
    "fhand = open('mbox.txt')\n",
    "x = 0\n",
    "for line in fhand:\n",
    "       x = x + 1\n",
    "print(x)"
   ]
  },
  {
   "cell_type": "markdown",
   "metadata": {},
   "source": [
    "* Count the lines in the file 'mbox.txt'"
   ]
  },
  {
   "cell_type": "markdown",
   "metadata": {},
   "source": [
    "8.If you write a Python program to read a text file and you see extra blank lines in the output that are not present in the file input as shown below, what Python string function will likely solve the problem?"
   ]
  },
  {
   "cell_type": "markdown",
   "metadata": {},
   "source": [
    "* rstrip()"
   ]
  },
  {
   "cell_type": "markdown",
   "metadata": {},
   "source": [
    "9.The following code sequence fails with a traceback when the user enters a file that does not exist. How would you avoid the traceback and make it so you could print out your own error message when a bad file name was entered?"
   ]
  },
  {
   "cell_type": "markdown",
   "metadata": {},
   "source": [
    "fname = input('Enter the file name: ')\n",
    "fhand = open(fname)"
   ]
  },
  {
   "cell_type": "markdown",
   "metadata": {},
   "source": [
    "* try / except"
   ]
  },
  {
   "cell_type": "markdown",
   "metadata": {},
   "source": [
    "10.What does the following Python code do?\n",
    "\n"
   ]
  },
  {
   "cell_type": "markdown",
   "metadata": {},
   "source": [
    "fhand = open('mbox-short.txt')\n",
    "inp = fhand.read()"
   ]
  },
  {
   "cell_type": "markdown",
   "metadata": {},
   "source": [
    "* Reads the entire file into the variable inp as a string"
   ]
  },
  {
   "cell_type": "code",
   "execution_count": null,
   "metadata": {},
   "outputs": [],
   "source": []
  }
 ],
 "metadata": {
  "kernelspec": {
   "display_name": "Python 3",
   "language": "python",
   "name": "python3"
  },
  "language_info": {
   "codemirror_mode": {
    "name": "ipython",
    "version": 3
   },
   "file_extension": ".py",
   "mimetype": "text/x-python",
   "name": "python",
   "nbconvert_exporter": "python",
   "pygments_lexer": "ipython3",
   "version": "3.6.4"
  }
 },
 "nbformat": 4,
 "nbformat_minor": 2
}
